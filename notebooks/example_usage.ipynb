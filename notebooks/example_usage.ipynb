{
  "cells": [
    {
      "cell_type": "markdown",
      "metadata": {},
      "source": [
        "# Natural Gas Price Model - Example Usage\n",
        "\n",
        "This notebook demonstrates how to use the natural gas price model pipeline.\n"
      ]
    },
    {
      "cell_type": "markdown",
      "metadata": {},
      "source": [
        "## 1. Setup and Imports\n"
      ]
    },
    {
      "cell_type": "code",
      "execution_count": null,
      "metadata": {},
      "outputs": [],
      "source": [
        "import sys\n",
        "import os\n",
        "sys.path.append('..')\n",
        "\n",
        "import pandas as pd\n",
        "import numpy as np\n",
        "import matplotlib.pyplot as plt\n",
        "import seaborn as sns\n",
        "from datetime import datetime, timedelta\n",
        "\n",
        "# Import our modules\n",
        "from src.data_ingestion.eia_client import EIAClient\n",
        "from src.data_ingestion.weather_client import WeatherClient\n",
        "from src.data_ingestion.database import GasModelDatabase\n",
        "from src.feature_engineering.weather_features import WeatherFeatureEngineer\n",
        "from src.feature_engineering.storage_features import StorageFeatureEngineer\n",
        "from src.models.baseline import BaselinePipeline\n",
        "from src.models.tree_models import TreeModelPipeline\n",
        "from src.evaluation.backtesting import Backtester, ModelComparison\n",
        "\n",
        "# Set up plotting\n",
        "plt.style.use('seaborn-v0_8')\n",
        "sns.set_palette(\"husl\")\n"
      ]
    }
  ],
  "metadata": {
    "language_info": {
      "name": "python"
    }
  },
  "nbformat": 4,
  "nbformat_minor": 2
}
